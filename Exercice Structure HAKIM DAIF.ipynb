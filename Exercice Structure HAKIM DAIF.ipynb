{
 "cells": [
  {
   "cell_type": "markdown",
   "metadata": {},
   "source": [
    "# Exercices\n",
    "\n",
    "## I. Phénomènes aléatoires\n",
    "\n",
    "On veut étudier le temps mis par une particule Brownienne pour parcourir une distance donnée, en moyenne. Nous nous placerons en 1 dimension pour simplifier.\n",
    "\n",
    "La particule part de 0, et se déplace tour à tour d'une distance (positive ou négative) suivant une loi normale centrée réduite.\n",
    "\n",
    "1) Trouvez la fonction Numpy qui génère des nombres aléatoires suivant la loi normale\n",
    "\n",
    "2) Suivant une boucle for, faites déplacer votre particule de 10, 100, 1000... pas en imprimant la distance à 0 à chaque fois.\n",
    "\n",
    "3) Cette fois, utilisez une boucle while pour trouver le temps pour lequel la particule dépasse 10, 100 ou 1000 unités de longueur.\n",
    "\n",
    "4) Avec une boucle for, répétez la boucle while précédente, et stockez dans une liste, le temps mis pour parcourir $D$\n",
    "\n",
    "5) Créez une classe *Particule* munie d'un attribut *liste numpy* (array) et d'une méthode qui lance un ou plusieurs déplacements.\n",
    "\n",
    "6) ajoutez une méthode qui calcule la distance au temps *t* demandé en argument\n",
    "\n",
    "7) ajoutez une méthode qui détermine le temps auquel une distance *d* (en argument) est atteinte.\n",
    "\n",
    "8) Créez une classe *Experience* contenant une liste (vide) en argument (par défaut) contenant des *particules*.\n",
    "\n",
    "9) Créez une méthode qui ajoute une ou plusieurs *particule*s à la liste.\n",
    "\n",
    "10) Créez une méthode qui lance la méthode de la question 5 à toutes les particules jusqu'à ce qu'elles atteignent une distance *D* spécifiée (individuellement)\n",
    "\n",
    "11) Générez une méthode qui calcule la distance moyenne en *t* unités de temps, et qui calcule le temps moyens pour atteindre *d*,à partir des particules données."
   ]
  },
  {
   "cell_type": "raw",
   "metadata": {},
   "source": [
    "1) Trouvez la fonction Numpy qui génère des nombres aléatoires suivant la loi normale"
   ]
  },
  {
   "cell_type": "code",
   "execution_count": 2,
   "metadata": {},
   "outputs": [
    {
     "name": "stdout",
     "output_type": "stream",
     "text": [
      "-2.3744065471647726\n"
     ]
    }
   ],
   "source": [
    "import numpy as np\n",
    "\n",
    "#génèrer un nombre aléatoire suivant la loi normale centrée\n",
    "x = np.random.standard_normal()\n",
    "\n",
    "print (x)"
   ]
  },
  {
   "cell_type": "raw",
   "metadata": {},
   "source": [
    "2) Suivant une boucle for, faites déplacer votre particule de 10, 100, 1000... pas en imprimant la distance à 0 à chaque fois."
   ]
  },
  {
   "cell_type": "code",
   "execution_count": 4,
   "metadata": {},
   "outputs": [
    {
     "name": "stdout",
     "output_type": "stream",
     "text": [
      "[10.10515866]\n"
     ]
    }
   ],
   "source": [
    "#On initialise x à 0, x est la variable qui contient la valeur de déplacement de la particule\n",
    "x = 0\n",
    "\n",
    "#On boucle pour générer autant de nombre aléatoire que voulu\n",
    "for i in range (0, 100):\n",
    "    #Pour chaque itération on génère un nouveau nombre aléatoire qu'on additionne aux précédents pour avoir le total\n",
    "    x = x + np.random.standard_normal(1)\n",
    "#On imprime la valeur absolu du total car une valeur peut être négative mais la distance parcouru est toujours positive\n",
    "print (abs(x))"
   ]
  },
  {
   "cell_type": "raw",
   "metadata": {},
   "source": [
    "3) Cette fois, utilisez une boucle while pour trouver le temps pour lequel la particule dépasse 10, 100 ou 1000 unités de longueur."
   ]
  },
  {
   "cell_type": "code",
   "execution_count": 3,
   "metadata": {},
   "outputs": [
    {
     "name": "stdout",
     "output_type": "stream",
     "text": [
      "1429467\n"
     ]
    }
   ],
   "source": [
    "#On utilise la variable x qui recevra les nombres aléatoires, i est le compteur d'itérations\n",
    "i = 0\n",
    "x = 0\n",
    "distance = 1000\n",
    "#Tant qu'on atteint pas la distance voulu, on génère un nouveau nombre aléatoire qu'on additionne aux précedents\n",
    "while abs(x) < distance:\n",
    "    x = x + np.random.standard_normal()\n",
    "    i += 1\n",
    "#On affiche (avec la fonction print) le nombre d'itérations nécessaires pour atteindre la distance voulu\n",
    "print(i)"
   ]
  },
  {
   "cell_type": "raw",
   "metadata": {},
   "source": [
    "4) Avec une boucle for, répétez la boucle while précédente, et stockez dans une liste, le temps mis pour parcourir 𝐷"
   ]
  },
  {
   "cell_type": "code",
   "execution_count": 9,
   "metadata": {},
   "outputs": [
    {
     "name": "stdout",
     "output_type": "stream",
     "text": [
      "[1385344, 1702785, 1937327, 996819, 802676]\n"
     ]
    }
   ],
   "source": [
    "#On crée une liste vide pour stocker le temps mis pour parcourir la distance\n",
    "mList = list()\n",
    "#La variable nbParticule est le nombre de particules pour lequel on souhaite générer des déplacements\n",
    "nbParticule = 5\n",
    "\n",
    "for nb in range (0, nbParticule):\n",
    "#Pour chaque itérations de la boucle for on réinitialise le nombre d'itérations (i) et x car il s'agit d'une nouvelle particule\n",
    "    i = 0\n",
    "    x = 0\n",
    "    #Tant qu'on atteint pas la distance voulu, on génère un nouveau nombre aléatoire qu'on additionne aux précedents\n",
    "    while abs(x) < 1000:\n",
    "        x = x + np.random.standard_normal(1)\n",
    "        i += 1\n",
    "    #A chaque fois que la distance est atteinte on ajoute le nombres d'itérations nécessaires dans la list créer au début\n",
    "    mList.append(i)\n",
    "print(mList)\n",
    "\n"
   ]
  },
  {
   "cell_type": "raw",
   "metadata": {},
   "source": [
    "5) Créez une classe *Particule* munie d'un attribut *liste numpy* (array) et d'une méthode qui lance un ou plusieurs déplacements.\n",
    "\n",
    "6) ajoutez une méthode qui calcule la distance au temps *t* demandé en argument\n",
    "\n",
    "7) ajoutez une méthode qui détermine le temps auquel une distance *d* (en argument) est atteinte."
   ]
  },
  {
   "cell_type": "code",
   "execution_count": 10,
   "metadata": {},
   "outputs": [
    {
     "name": "stdout",
     "output_type": "stream",
     "text": [
      "Résultat question 5 :\n",
      "[-0.6149281137163631, -0.07208443675428375, -1.3169993220322183, 1.9999611333578566, 0.5065080671614105, -1.247420386065878, -0.14281585163602173, -1.0122108911322312, 0.006944121133558701, 0.16862661488673966]\n",
      "Résultat question 6 :\n",
      "7.018594702324532\n",
      "Résultat question 7 :\n",
      "113913\n"
     ]
    }
   ],
   "source": [
    "#On crée une classe particule\n",
    "class Particule:\n",
    "    \n",
    "    #On initialise les particules avec un attribut liste, vide par défaut à la création\n",
    "    def __init__ (self):\n",
    "        self.list = []\n",
    "    \n",
    "    #Méthode qui génère un nombre de déplacement nbD\n",
    "    def deplacement(self, nbD):\n",
    "        x = 0\n",
    "        for i in range (0, nbD):\n",
    "            x = np.random.standard_normal()\n",
    "            self.list.append(x)\n",
    "        return self.list\n",
    "    \n",
    "    #Méthode qui retourne la distance parcouru pour un nombre d'itération nbI\n",
    "    def distanceAuTemps (self, nbI):\n",
    "        x = 0\n",
    "        for i in range (0, nbI):\n",
    "            x = x + np.random.standard_normal()\n",
    "        return (abs(x))\n",
    "    \n",
    "    #Méthode qui retourne le nombre d'itération i necessaire pour atteindre la distance choisi\n",
    "    def TempsPourDistance (self, distance):\n",
    "        i = 0\n",
    "        x = 0\n",
    "        while abs(x) < distance:\n",
    "            x = x + np.random.standard_normal()\n",
    "            i += 1\n",
    "        return (i)\n",
    "    \n",
    "#On crée une particule myPart\n",
    "myPart = Particule()\n",
    "\n",
    "#Question 5 : On génère un nombre (nb) de nombre aléatoire correspondant à des déplacements que l'on renvoie sous forme de liste\n",
    "nb = 10\n",
    "myList = myPart.deplacement(nb)\n",
    "\n",
    "print(\"Résultat question 5 :\")\n",
    "print(myList)\n",
    "\n",
    "#Question 6 : On obtient la distance parcouru (dist) pour un nombre d'itération défini (nbIter)\n",
    "nbIter = 100\n",
    "dist = myPart.distanceAuTemps(nbIter)\n",
    "\n",
    "print(\"Résultat question 6 :\")\n",
    "print(dist)\n",
    "\n",
    "#Question 7 : On obtient le nombre d'itération (iter) nécessaire pour atteindre une distance donnée (distance)\n",
    "distance = 1000\n",
    "iter = myPart.TempsPourDistance(distance)\n",
    "\n",
    "print(\"Résultat question 7 :\")\n",
    "print(iter)"
   ]
  },
  {
   "cell_type": "markdown",
   "metadata": {},
   "source": [
    "8) Créez une classe *Experience* contenant une liste (vide) en argument (par défaut) contenant des *particules*.\n",
    "\n",
    "9) Créez une méthode qui ajoute une ou plusieurs *particule*s à la liste.\n",
    "\n",
    "10) Créez une méthode qui lance la méthode de la question 5 à toutes les particules jusqu'à ce qu'elles atteignent une distance *D* spécifiée (individuellement)\n",
    "\n",
    "11) Générez une méthode qui calcule la distance moyenne en *t* unités de temps, et qui calcule le temps moyens pour atteindre *d*,à partir des particules données."
   ]
  },
  {
   "cell_type": "code",
   "execution_count": 22,
   "metadata": {},
   "outputs": [
    {
     "name": "stdout",
     "output_type": "stream",
     "text": [
      "Résultat question 9 :\n",
      "[<__main__.Particule object at 0x0000021152A026A0>, <__main__.Particule object at 0x0000021152A02310>, <__main__.Particule object at 0x0000021152A02A60>, <__main__.Particule object at 0x0000021152A024F0>, <__main__.Particule object at 0x0000021152A028B0>]\n",
      "[[0.2210645910428367, -0.8666701262730039, -0.164290227366006], [1.6830139641456654, 0.06839240804440677, -1.3287945683874713], [-1.5391373719922357, -1.7298648933212775, -0.06606300201982647], [-0.12966916320150784, -0.35061785325201894, -0.21699795236680522], [0.1582216898519741, -0.6058386445074636, -0.0647843991071063]]\n",
      "[150, 135, 171, 141, 181]\n",
      "Résultat question 10 :\n",
      "Nombre d'itérations moyen pour atteindre une distance de 10 est de 155.6\n",
      "Résultat question 11 :\n",
      "Distance moyenne parcouru pour 10 est de 2.086664719697389\n"
     ]
    }
   ],
   "source": [
    "#On crée une classe Experience\n",
    "class Experience:\n",
    "    \n",
    "    #On initialise la classe Experience avec un attribut liste vide\n",
    "    def __init__ (self):\n",
    "        self.list = []\n",
    "    \n",
    "    #Méthode pour ajouter un nombre nbP de particules\n",
    "    def ajoutParticule (self, nbP):\n",
    "        for i in range (0, nbP):\n",
    "            self.list.append(Particule())\n",
    "        return self\n",
    "    \n",
    "    #Méthode pour déplacer les particules d'un nombre d'itérations données (nbiter)\n",
    "    def deplacerParticule(self, nbiter):\n",
    "        dpP = []\n",
    "        #On boucle sur chaque particule contenu dans la liste de l'Expérience\n",
    "        for i in range (0, len(self.list)):\n",
    "            dpP.append(self.list[i].deplacement(nbiter))\n",
    "        return dpP\n",
    "\n",
    "    #Méthode qui retourne la moyenne d'itérations nécessaire pour atteindre une distance (distance)\n",
    "    def TempsPourDistance (self, distance):\n",
    "        listeIter = []\n",
    "        for i in range (0, len(self.list)):\n",
    "            listeIter.append(self.list[i].TempsPourDistance(distance))\n",
    "        print(listeIter)\n",
    "        return(np.mean(listeIter))\n",
    "    \n",
    "    #Méthode qui retourne la distance moyenne parcouru par les Particules pour un nombre d'itérations donnée nbI\n",
    "    def distanceAuTemps (self, nbI):\n",
    "        dpP = []\n",
    "        for i in range (0, len(self.list)):\n",
    "            dpP.append(abs(self.list[i].distanceAuTemps(nbI)))\n",
    "        return(np.mean(dpP))\n",
    "\n",
    "#On génère une experience\n",
    "myExp = Experience()\n",
    "\n",
    "#On ajoute un nombre (nbPart) à l'experience\n",
    "nbPart = 5\n",
    "addP = myExp.ajoutParticule(nbPart)\n",
    "\n",
    "print(\"Résultat de la question 9 :\")\n",
    "print(addP.list)\n",
    "\n",
    "#On fait déplacer les particules de l'expérience d'un nombre d'itération donnée (nbIter)\n",
    "nbIter = 3\n",
    "e = myExp.deplacerParticule(nbIter)\n",
    "\n",
    "print (e)\n",
    "\n",
    "#On souhaite le nombre d'itérations moyen pour parcourir une distance (distanceAparcourir)\n",
    "distanceAparcourir = 10\n",
    "f = myExp.TempsPourDistance(distanceAparcourir)\n",
    "print(\"Résultat question 10 :\")\n",
    "print(\"Nombre d'itérations moyen pour atteindre une distance de \" + str(distanceAparcourir) + \" est de \" + str(f))\n",
    "\n",
    "#On souhaite la distance moyenne parcouru pour un nombre d'itérations (nbIter)\n",
    "nbIter = 10\n",
    "g = myExp.distanceAuTemps(nbIter)\n",
    "print(\"Résultat question 11 :\")\n",
    "print(\"Distance moyenne parcouru pour \" + str(nbIter) + \" est de \" + str(g))"
   ]
  },
  {
   "cell_type": "markdown",
   "metadata": {},
   "source": [
    "## II. Import et traitement d'une page web\n",
    "\n",
    "*En travaux*\n",
    "\n",
    "But: Utiliser les bibliothèque request-html et beautiful soup pour importez une page web\n",
    "\n",
    "1) Générez une boucle while pour importer tous les liens.\n",
    "\n",
    "2) Sur la liste des liens, importez la page et déterminez si un mot donné s'y trouve\n",
    "\n",
    "3) Créez une fonction récursive qui recommence le processus 1), 2), tant que le mot donné est trouvé\n",
    "\n",
    "4) Encapsulez les fonctions développées dans une classe contenant une liste de *pages_web*\n"
   ]
  },
  {
   "cell_type": "markdown",
   "metadata": {},
   "source": []
  },
  {
   "cell_type": "code",
   "execution_count": null,
   "metadata": {},
   "outputs": [],
   "source": []
  },
  {
   "cell_type": "code",
   "execution_count": null,
   "metadata": {},
   "outputs": [],
   "source": []
  },
  {
   "cell_type": "code",
   "execution_count": null,
   "metadata": {},
   "outputs": [],
   "source": []
  }
 ],
 "metadata": {
  "kernelspec": {
   "display_name": "Python 3",
   "language": "python",
   "name": "python3"
  },
  "language_info": {
   "codemirror_mode": {
    "name": "ipython",
    "version": 3
   },
   "file_extension": ".py",
   "mimetype": "text/x-python",
   "name": "python",
   "nbconvert_exporter": "python",
   "pygments_lexer": "ipython3",
   "version": "3.8.3"
  }
 },
 "nbformat": 4,
 "nbformat_minor": 4
}
